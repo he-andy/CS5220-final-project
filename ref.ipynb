{
 "cells": [
  {
   "cell_type": "code",
   "execution_count": 15,
   "metadata": {},
   "outputs": [],
   "source": [
    "import numpy as np\n",
    "from numpy.polynomial import Polynomial\n"
   ]
  },
  {
   "cell_type": "code",
   "execution_count": 32,
   "metadata": {},
   "outputs": [],
   "source": [
    "def ls_american_option_quadratic_iter(X, t, r, strike):\n",
    "    # given no prior exercise we just receive the payoff of a European option\n",
    "    cashflow = np.maximum(strike - X[-1, :], 0.0)\n",
    "    # iterating backwards in time\n",
    "    for i in reversed(range(1, X.shape[0] - 1)):\n",
    "        # discount factor between t[i] and t[i+1]\n",
    "        df = np.exp(-r * (t[i + 1] - t[i]))\n",
    "        # discount cashflows from next period\n",
    "        cashflow = cashflow * df\n",
    "        x = X[i, :]\n",
    "        # exercise value for time t[i]\n",
    "        exercise = np.maximum(strike - x, 0.0)\n",
    "        # boolean index of all in-the-money paths\n",
    "        itm = exercise > 0\n",
    "        # fit polynomial of degree 2\n",
    "        print(x[itm], cashflow[itm])\n",
    "        fitted = Polynomial.fit(x[itm], cashflow[itm], 2)\n",
    "        print(fitted)\n",
    "        # approximate continuation value\n",
    "        continuation = fitted(x)\n",
    "        print(\"c\", continuation)\n",
    "        # boolean index where exercise is beneficial\n",
    "        ex_idx = itm & (exercise > continuation)\n",
    "        # update cashflows with early exercises\n",
    "        cashflow[ex_idx] = exercise[ex_idx]\n",
    "\n",
    "        yield cashflow, x, fitted, continuation, exercise, ex_idx\n",
    "\n",
    "\n",
    "def longstaff_schwartz_american_option_quadratic(X, t, r, strike):\n",
    "    for cashflow, *_ in ls_american_option_quadratic_iter(X, t, r, strike):\n",
    "        print(cashflow)\n",
    "        pass\n",
    "    return cashflow.mean(axis=0) * np.exp(-r * (t[1] - t[0]))"
   ]
  },
  {
   "cell_type": "code",
   "execution_count": 33,
   "metadata": {},
   "outputs": [],
   "source": [
    "t = np.linspace(0, 3, 4)\n",
    "r = 0.06\n",
    "strike = 1.1\n",
    "X = np.array([\n",
    "    [1.00, 1.09, 1.08, 1.34],\n",
    "    [1.00, 1.16, 1.26, 1.54],\n",
    "    [1.00, 1.22, 1.07, 1.03],\n",
    "    [1.00, 0.93, 0.97, 0.92],\n",
    "    [1.00, 1.11, 1.56, 1.52],\n",
    "    [1.00, 0.76, 0.77, 0.90],\n",
    "    [1.00, 0.92, 0.84, 1.01],\n",
    "    [1.00, 0.88, 1.22, 1.34]\n",
    "]).T"
   ]
  },
  {
   "cell_type": "code",
   "execution_count": 34,
   "metadata": {},
   "outputs": [
    {
     "name": "stdout",
     "output_type": "stream",
     "text": [
      "[1.08 1.07 0.97 0.77 0.84] [0.         0.06592352 0.16951762 0.18835291 0.08475881]\n",
      "0.13792605 - 0.05761432·x - 0.04357117·x²\n",
      "c [ 0.03674056 -0.19012381  0.04589834  0.11752682 -0.82938608  0.15196921\n",
      "  0.15641792 -0.12955348]\n",
      "[0.         0.         0.06592352 0.13       0.         0.33\n",
      " 0.26       0.        ]\n",
      "[1.09 0.93 0.76 0.92 0.88] [0.         0.12242939 0.3107823  0.24485878 0.        ]\n",
      "0.11284536 - 0.13628979·x + 0.03692953·x²\n",
      "c [ 0.01348511 -0.00635402 -0.01277862  0.10874928  0.00646033  0.28606468\n",
      "  0.11700927  0.15276213]\n",
      "[0.         0.         0.06208443 0.17       0.         0.34\n",
      " 0.18       0.22      ]\n"
     ]
    },
    {
     "data": {
      "text/plain": [
       "0.11443433004505696"
      ]
     },
     "execution_count": 34,
     "metadata": {},
     "output_type": "execute_result"
    }
   ],
   "source": [
    "longstaff_schwartz_american_option_quadratic(X, t, r, strike)"
   ]
  },
  {
   "cell_type": "code",
   "execution_count": 50,
   "metadata": {},
   "outputs": [
    {
     "data": {
      "text/latex": [
       "$x \\mapsto \\text{2.11817704e-15}\\color{LightGray}{ + \\text{0.0}\\,\\left(\\text{0.33333333}x\\right)} + \\text{9.0}\\,\\left(\\text{0.33333333}x\\right)^{2}$"
      ],
      "text/plain": [
       "Polynomial([2.11817704e-15, 0.00000000e+00, 9.00000000e+00], domain=[-3.,  3.], window=[-1.,  1.], symbol='x')"
      ]
     },
     "execution_count": 50,
     "metadata": {},
     "output_type": "execute_result"
    }
   ],
   "source": [
    "x = [0, 1, -1, 2, -2, 3, -3,]\n",
    "y = [0, 1, 1, 4, 4, 9 ,9]\n",
    "p = Polynomial.fit(x, y, 2)\n",
    "p"
   ]
  },
  {
   "cell_type": "code",
   "execution_count": 51,
   "metadata": {},
   "outputs": [
    {
     "name": "stdout",
     "output_type": "stream",
     "text": [
      "2.11817704e-15 + 0.0·x + 9.0·x²\n"
     ]
    }
   ],
   "source": [
    "print(p)"
   ]
  },
  {
   "cell_type": "code",
   "execution_count": null,
   "metadata": {},
   "outputs": [],
   "source": []
  }
 ],
 "metadata": {
  "kernelspec": {
   "display_name": "Python 3",
   "language": "python",
   "name": "python3"
  },
  "language_info": {
   "codemirror_mode": {
    "name": "ipython",
    "version": 3
   },
   "file_extension": ".py",
   "mimetype": "text/x-python",
   "name": "python",
   "nbconvert_exporter": "python",
   "pygments_lexer": "ipython3",
   "version": "3.11.6"
  }
 },
 "nbformat": 4,
 "nbformat_minor": 2
}
